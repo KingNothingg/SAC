{
 "cells": [
  {
   "cell_type": "markdown",
   "metadata": {},
   "source": [
    "### Лабораторная работа №2\n",
    "### Тарпанов Даниил\n",
    "### Метод прямоугольников и трапеций"
   ]
  },
  {
   "cell_type": "code",
   "execution_count": 4,
   "metadata": {},
   "outputs": [],
   "source": [
    "acc = 6\n",
    "\n",
    "def RectMethod(y, a, b, count):\n",
    "    step = (b - a) / count\n",
    "    values = []\n",
    "    for i in range(count):\n",
    "        values.append(a + i * step)\n",
    "    values.append(b)\n",
    "    f_values = []\n",
    "    min_val = 0\n",
    "    max_val = 0\n",
    "    \n",
    "    for i in range(count):\n",
    "        cur_f_val = y(values[i])\n",
    "        min_val = min(cur_f_val, min_val)\n",
    "        max_val = max(cur_f_val, max_val)\n",
    "        f_values.append(cur_f_val)\n",
    "        \n",
    "    visualization = plot(y, xmin = a, xmax = b, ymin = min_val, ymax = max_val, color = \"red\")\n",
    "    for i in range(count):\n",
    "        rect = [\n",
    "            [values[i], 0],\n",
    "            [values[i], f_values[i]],\n",
    "            [values[i + 1], f_values[i]],\n",
    "            [values[i + 1], 0]\n",
    "        ]\n",
    "        rect.append(rect[0])\n",
    "        visualization += line(rect, color = \"green\")\n",
    "    ans = 0\n",
    "    for i in range(count):\n",
    "        ans = ans + step * f_values[i]\n",
    "    \n",
    "    print(\"Результат методом прямоугольников: \")\n",
    "    print(ans.n())\n",
    "    return visualization\n",
    "\n",
    "def TrapMethod(y, a, b, count):\n",
    "    step = (b - a) / count\n",
    "    values = []\n",
    "    for i in range(count):\n",
    "        values.append(a + i * step)\n",
    "    values.append(b)\n",
    "    f_values = []\n",
    "    min_val = 0\n",
    "    max_val = 0\n",
    "    \n",
    "    for i in range(count + 1):\n",
    "        cur_f_val = y(values[i])\n",
    "        min_val = min(cur_f_val, min_val)\n",
    "        max_val = max(cur_f_val, max_val)\n",
    "        f_values.append(cur_f_val)\n",
    "        \n",
    "    visualization = plot(y, xmin = a, xmax = b, ymin = min_val, ymax = max_val, color = \"red\")\n",
    "    for i in range(count):\n",
    "        trapeze = [\n",
    "            [values[i], 0],\n",
    "            [values[i], f_values[i]],\n",
    "            [values[i + 1], f_values[i + 1]],\n",
    "            [values[i + 1], 0]\n",
    "        ]\n",
    "        trapeze.append(trapeze[0])\n",
    "        visualization += line(trapeze, color = \"green\")\n",
    "    ans = 0\n",
    "    for i in range(count):\n",
    "        ans = ans + step * (f_values[i] + f_values[i + 1]) / 2\n",
    "    print(\"Результат методом трапеций: \")\n",
    "    print(ans.n())\n",
    "\n",
    "    return visualization"
   ]
  },
  {
   "cell_type": "code",
   "execution_count": 10,
   "metadata": {
    "scrolled": true
   },
   "outputs": [
    {
     "name": "stdout",
     "output_type": "stream",
     "text": [
      "Результат через функцию definite_integral: \n",
      "11.817\n"
     ]
    }
   ],
   "source": [
    "#from sage.symbolic.integration.integral import definite_integral\n",
    "func(x) = (ln(x-2) + 1) / (x-2)\n",
    "left_border = 2.5\n",
    "right_border = 50\n",
    "\n",
    "#ans = definite_integral(func(x),x,left_border,right_border)\n",
    "\n",
    "ans = integral(func(x),x,left_border,right_border)\n",
    "\n",
    "print(\"Результат через функцию definite_integral: \")\n",
    "print(ans.n(digits=5))\n",
    "\n",
    "\n",
    "min_steps = 1\n",
    "max_steps = 100"
   ]
  },
  {
   "cell_type": "code",
   "execution_count": 5,
   "metadata": {},
   "outputs": [
    {
     "data": {
      "application/vnd.jupyter.widget-view+json": {
       "model_id": "af201c2a053d4cb884a7f99e3d7d7de1"
      }
     },
     "metadata": {},
     "output_type": "display_data"
    }
   ],
   "source": [
    "@interact\n",
    "def _(step = (min_steps, max_steps, 1)):\n",
    "    visRect = RectMethod(func, left_border, right_border, step)\n",
    "    visTrap = TrapMethod(func, left_border, right_border, step)\n",
    "    graphics_array([visRect, visTrap]).show(frame=True, axes=False)"
   ]
  },
  {
   "cell_type": "markdown",
   "metadata": {},
   "source": [
    "#### Результаты зависят от количества шагов, чем больше шагов тем выше точность. В целом, значения получились почти одинаковые.\n",
    "### Расширенный алгоритм Евклида"
   ]
  },
  {
   "cell_type": "code",
   "execution_count": 7,
   "metadata": {},
   "outputs": [],
   "source": [
    "def __gcd(a, b):\n",
    "    if (a == 0):\n",
    "        return (b, 0, 1)\n",
    "    q = b // a\n",
    "    r = b % a\n",
    "    d, x1, y1 = (i for i in __gcd(r, a))\n",
    "    x = y1 - q * x1\n",
    "    y = x1\n",
    "    \n",
    "    return (d, x, y)"
   ]
  },
  {
   "cell_type": "code",
   "execution_count": 8,
   "metadata": {},
   "outputs": [
    {
     "name": "stdout",
     "output_type": "stream",
     "text": [
      "НОД через алгоритм Евклида = -6336/49*x + 6336/49\n",
      "НОД через gcd = x - 1\n"
     ]
    }
   ],
   "source": [
    "#gcd var 2\n",
    "Ring.<x> = QQ[]\n",
    "#заменил <x,y>\n",
    "f = 5*x^4 - 15*x^3 + 15*x^2 - 5*x\n",
    "g = -22*x^5 + 33*x^4 - 11*x^3 - 99*x + 99\n",
    "\n",
    "gcd_result = __gcd(f, g)[0]\n",
    "print(\"НОД через алгоритм Евклида =\", str(gcd_result))\n",
    "gcd_result = gcd(f, g)\n",
    "print(\"НОД через gcd =\", str(gcd_result))\n"
   ]
  },
  {
   "cell_type": "markdown",
   "metadata": {},
   "source": [
    "#### Видно, что для совпадения не хватает сокращения на -6336/49"
   ]
  },
  {
   "cell_type": "code",
   "execution_count": 11,
   "metadata": {},
   "outputs": [
    {
     "name": "stdout",
     "output_type": "stream",
     "text": [
      "НОД через алгоритм Евклида с сокращением = x - 1\n"
     ]
    }
   ],
   "source": [
    "gcd_result = __gcd(f, g)[0]\n",
    "\n",
    "#функция для коэфффициентов\n",
    "#print(gcd_result.coefficients())\n",
    "\n",
    "gcd_result /= gcd_result.coefficients()[1]\n",
    "print(\"НОД через алгоритм Евклида с сокращением =\", str(gcd_result))"
   ]
  },
  {
   "cell_type": "code",
   "execution_count": 15,
   "metadata": {},
   "outputs": [],
   "source": [
    "#функция вычисления коэффициентов тождества Безу и gcd(a,b)\n",
    "def bezout(a, b):\n",
    "    x, xx, y, yy = 1, 0, 0, 1\n",
    "    while b:\n",
    "        q, r = a // b, a % b\n",
    "        a = b\n",
    "        b = r\n",
    "        x, xx = xx, x - xx*q\n",
    "        y, yy = yy, y - yy*q\n",
    "    return (x, y, a)"
   ]
  },
  {
   "cell_type": "code",
   "execution_count": 16,
   "metadata": {},
   "outputs": [
    {
     "name": "stdout",
     "output_type": "stream",
     "text": [
      "НОД = -6336/49*x + 6336/49\n",
      "НОД = -6336/49*x + 6336/49\n",
      "Получено верное тождество\n"
     ]
    }
   ],
   "source": [
    "bez = bezout(f, g)\n",
    "#полученный gcd(a, b) - левая часть тождества Безу\n",
    "print(\"НОД =\", f*bez[0]+bez[1]*g)\n",
    "\n",
    "#полученный gcd(a,b) - правая часть тождества Безу\n",
    "print(\"НОД =\", bez[2])\n",
    "\n",
    "#проверка тождества Безу \n",
    "if (f*bez[0]+bez[1]*g) - bez[2] == 0:\n",
    "    print(\"Получено верное тождество\")\n",
    "else:\n",
    "    print(\"Получено неверное тождество\")\n"
   ]
  },
  {
   "cell_type": "code",
   "execution_count": null,
   "metadata": {},
   "outputs": [],
   "source": []
  }
 ],
 "metadata": {
  "kernelspec": {
   "display_name": "SageMath 9.0",
   "language": "sage",
   "name": "sagemath"
  },
  "language_info": {
   "codemirror_mode": {
    "name": "ipython",
    "version": 3
   },
   "file_extension": ".py",
   "mimetype": "text/x-python",
   "name": "python",
   "nbconvert_exporter": "python",
   "pygments_lexer": "ipython3",
   "version": "3.8.5"
  }
 },
 "nbformat": 4,
 "nbformat_minor": 4
}
