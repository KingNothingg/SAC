{
 "cells": [
  {
   "cell_type": "markdown",
   "metadata": {},
   "source": [
    "# Исследование графиков\n",
    "## Тарпанов Даниил\n",
    "## М8О-204(6)Б-19\n",
    "## Вариант 3\n",
    "### Исходная функция\n"
   ]
  },
  {
   "cell_type": "code",
   "execution_count": 81,
   "metadata": {},
   "outputs": [
    {
     "data": {
      "text/html": [
       "<html><script type=\"math/tex; mode=display\">\\newcommand{\\Bold}[1]{\\mathbf{#1}}\\verb|y|\\phantom{\\verb!x!}\\verb|=| -15 \\, x^{2} + \\frac{1}{2} \\, \\log\\left(\\frac{\\sqrt{x^{2} + 1}}{\\sqrt{x^{2} - 1}}\\right)</script></html>"
      ],
      "text/plain": [
       "'y = ' -15*x^2 + 1/2*log(sqrt(x^2 + 1)/sqrt(x^2 - 1))"
      ]
     },
     "metadata": {},
     "output_type": "display_data"
    }
   ],
   "source": [
    "var('x')\n",
    "var('y')\n",
    "y = 1/2 * ln(sqrt(x^2 + 1) / sqrt(x^2 - 1)) - 15*x**2\n",
    "show(\"y = \", y)"
   ]
  },
  {
   "cell_type": "markdown",
   "metadata": {},
   "source": [
    "### Область определения\n"
   ]
  },
  {
   "cell_type": "code",
   "execution_count": 82,
   "metadata": {},
   "outputs": [
    {
     "data": {
      "text/html": [
       "<html><script type=\"math/tex; mode=display\">\\newcommand{\\Bold}[1]{\\mathbf{#1}}\\verb|D:| \\left(-\\infty, -1\\right) \\verb|⋃| \\left(1, +\\infty\\right)</script></html>"
      ],
      "text/plain": [
       "'D: ' (-Infinity, -1) '⋃' (1, +Infinity)"
      ]
     },
     "metadata": {},
     "output_type": "display_data"
    }
   ],
   "source": [
    "D1 = (-infinity, -1)\n",
    "D2 = (1, infinity)\n",
    "show(\"D: \", D1, \"⋃\", D2)"
   ]
  },
  {
   "cell_type": "markdown",
   "metadata": {},
   "source": [
    "### Четность и нечетность"
   ]
  },
  {
   "cell_type": "code",
   "execution_count": 96,
   "metadata": {},
   "outputs": [
    {
     "data": {
      "text/html": [
       "<html><script type=\"math/tex; mode=display\">\\newcommand{\\Bold}[1]{\\mathbf{#1}}\\verb|Функция|\\phantom{\\verb!x!}\\verb|четная|</script></html>"
      ],
      "text/plain": [
       "'Функция четная'"
      ]
     },
     "metadata": {},
     "output_type": "display_data"
    },
    {
     "data": {
      "text/html": [
       "<html><script type=\"math/tex; mode=display\">\\newcommand{\\Bold}[1]{\\mathbf{#1}}\\verb|Функция|\\phantom{\\verb!x!}\\verb|не|\\phantom{\\verb!x!}\\verb|нечетная|</script></html>"
      ],
      "text/plain": [
       "'Функция не нечетная'"
      ]
     },
     "metadata": {},
     "output_type": "display_data"
    }
   ],
   "source": [
    "if (y(-x).expand().simplify() != y(x).expand().simplify()):\n",
    "    show(\"Функция не является четной\")\n",
    "else:\n",
    "    show(\"Функция четная\")\n",
    "\n",
    "if (y(-x).expand().simplify() != -y(x).expand().simplify()):\n",
    "    show(\"Функция не нечетная\")\n",
    "else:\n",
    "    show(\"Функция нечетная\")\n"
   ]
  },
  {
   "cell_type": "markdown",
   "metadata": {},
   "source": [
    "### Точки пересечения графика с осями координат"
   ]
  },
  {
   "cell_type": "code",
   "execution_count": 84,
   "metadata": {
    "scrolled": true
   },
   "outputs": [
    {
     "data": {
      "text/html": [
       "<html><script type=\"math/tex; mode=display\">\\newcommand{\\Bold}[1]{\\mathbf{#1}}\\left[\\right]</script></html>"
      ],
      "text/plain": [
       "[]"
      ]
     },
     "metadata": {},
     "output_type": "display_data"
    }
   ],
   "source": [
    "var('x0')\n",
    "x0 = solve(y == 0, x, explicit_solutions=True)\n",
    "show(x0)"
   ]
  },
  {
   "cell_type": "markdown",
   "metadata": {},
   "source": [
    "График не пересекает ось $Y$ исходя из области определения. Также, решение уравнения $y = 0$ найдено не было. Следовательно, функция не пересекает ось $X$\n",
    "### Промежутки знакопостоянства\n",
    "Исходя из предыдущего пункта, функция не пересекает ось $X$. Следовательно, на всей области определения функция имеет один и тот же знак. Для определения знака возьмем значение функции в произвольной точке."
   ]
  },
  {
   "cell_type": "code",
   "execution_count": 85,
   "metadata": {
    "scrolled": false
   },
   "outputs": [
    {
     "data": {
      "text/plain": [
       "-59.8722935940585"
      ]
     },
     "execution_count": 85,
     "metadata": {},
     "output_type": "execute_result"
    }
   ],
   "source": [
    "numerical_approx(y(2))"
   ]
  },
  {
   "cell_type": "code",
   "execution_count": 86,
   "metadata": {},
   "outputs": [
    {
     "data": {
      "text/html": [
       "<html><script type=\"math/tex; mode=display\">\\newcommand{\\Bold}[1]{\\mathbf{#1}}\\verb|y|\\phantom{\\verb!x!}\\verb|<|\\phantom{\\verb!x!}\\verb|0:| \\left(-\\infty, -1\\right) \\verb|⋃| \\left(1, +\\infty\\right)</script></html>"
      ],
      "text/plain": [
       "'y < 0: ' (-Infinity, -1) '⋃' (1, +Infinity)"
      ]
     },
     "metadata": {},
     "output_type": "display_data"
    }
   ],
   "source": [
    "show(\"y < 0: \", D1, \"⋃\", D2)"
   ]
  },
  {
   "cell_type": "markdown",
   "metadata": {},
   "source": [
    "### Промежутки возрастания"
   ]
  },
  {
   "cell_type": "code",
   "execution_count": 87,
   "metadata": {},
   "outputs": [
    {
     "data": {
      "text/html": [
       "<html><script type=\"math/tex; mode=display\">\\newcommand{\\Bold}[1]{\\mathbf{#1}}\\verb|y'|\\phantom{\\verb!x!}\\verb|=| -\\frac{30 \\, x^{5} - 29 \\, x}{x^{4} - 1}</script></html>"
      ],
      "text/plain": [
       "\"y' = \" -(30*x^5 - 29*x)/(x^4 - 1)"
      ]
     },
     "metadata": {},
     "output_type": "display_data"
    }
   ],
   "source": [
    "var('der')\n",
    "der = y.derivative().expand().simplify_full()\n",
    "show(\"y' = \",der)"
   ]
  },
  {
   "cell_type": "code",
   "execution_count": 88,
   "metadata": {
    "scrolled": false
   },
   "outputs": [
    {
     "data": {
      "text/html": [
       "<html><script type=\"math/tex; mode=display\">\\newcommand{\\Bold}[1]{\\mathbf{#1}}\\verb|f'|\\phantom{\\verb!x!}\\verb|>|\\phantom{\\verb!x!}\\verb|0:| \\left[\\left[x < \\left(-1\\right)\\right], \\left[x > -\\frac{1}{30} \\cdot 30^{\\frac{3}{4}} 29^{\\frac{1}{4}}, x < 0\\right], \\left[x > \\frac{1}{30} \\cdot 30^{\\frac{3}{4}} 29^{\\frac{1}{4}}, x < 1\\right]\\right]</script></html>"
      ],
      "text/plain": [
       "\"f' > 0: \" [[x < -1],\n",
       " [x > -1/30*30^(3/4)*29^(1/4), x < 0],\n",
       " [x > 1/30*30^(3/4)*29^(1/4), x < 1]]"
      ]
     },
     "metadata": {},
     "output_type": "display_data"
    },
    {
     "data": {
      "text/html": [
       "<html><script type=\"math/tex; mode=display\">\\newcommand{\\Bold}[1]{\\mathbf{#1}}\\verb|f'|\\phantom{\\verb!x!}\\verb|<|\\phantom{\\verb!x!}\\verb|0:| \\left[\\left[x > \\left(-1\\right), x < -\\frac{1}{30} \\cdot 30^{\\frac{3}{4}} 29^{\\frac{1}{4}}\\right], \\left[x > 0, x < \\frac{1}{30} \\cdot 30^{\\frac{3}{4}} 29^{\\frac{1}{4}}\\right], \\left[x > 1\\right]\\right]</script></html>"
      ],
      "text/plain": [
       "\"f' < 0: \" [[x > -1, x < -1/30*30^(3/4)*29^(1/4)],\n",
       " [x > 0, x < 1/30*30^(3/4)*29^(1/4)],\n",
       " [x > 1]]"
      ]
     },
     "metadata": {},
     "output_type": "display_data"
    }
   ],
   "source": [
    "var('der0')\n",
    "der0 = solve(der > 0, x)\n",
    "show(\"f' > 0: \", der0)\n",
    "var('der1')\n",
    "der1 = solve(der < 0, x)\n",
    "show(\"f' < 0: \",der1)"
   ]
  },
  {
   "cell_type": "markdown",
   "metadata": {},
   "source": [
    "Посчитаем точные значения границ: "
   ]
  },
  {
   "cell_type": "code",
   "execution_count": 89,
   "metadata": {},
   "outputs": [
    {
     "data": {
      "text/plain": [
       "-0.991560426928271"
      ]
     },
     "execution_count": 89,
     "metadata": {},
     "output_type": "execute_result"
    }
   ],
   "source": [
    "numerical_approx(-1/30*30**(3/4)*29**(1/4))"
   ]
  },
  {
   "cell_type": "markdown",
   "metadata": {},
   "source": [
    "Видно, что такие промежутки не входят в область определения, поэтому их рассматривать не будем."
   ]
  },
  {
   "cell_type": "code",
   "execution_count": 90,
   "metadata": {},
   "outputs": [
    {
     "data": {
      "text/html": [
       "<html><script type=\"math/tex; mode=display\">\\newcommand{\\Bold}[1]{\\mathbf{#1}}\\verb|у|\\phantom{\\verb!x!}\\verb|возрастает|\\phantom{\\verb!x!}\\verb|на:| \\left[x < \\left(-1\\right)\\right]</script></html>"
      ],
      "text/plain": [
       "'у возрастает на: ' [x < -1]"
      ]
     },
     "metadata": {},
     "output_type": "display_data"
    },
    {
     "data": {
      "text/html": [
       "<html><script type=\"math/tex; mode=display\">\\newcommand{\\Bold}[1]{\\mathbf{#1}}\\verb|y|\\phantom{\\verb!x!}\\verb|убывает|\\phantom{\\verb!x!}\\verb|на:| \\left[x > 1\\right]</script></html>"
      ],
      "text/plain": [
       "'y убывает на: ' [x > 1]"
      ]
     },
     "metadata": {},
     "output_type": "display_data"
    }
   ],
   "source": [
    "show(\"у возрастает на: \", der0[0])\n",
    "show(\"y убывает на: \", der1[2])"
   ]
  },
  {
   "cell_type": "markdown",
   "metadata": {},
   "source": [
    "### Точки экстремума"
   ]
  },
  {
   "cell_type": "code",
   "execution_count": 91,
   "metadata": {},
   "outputs": [
    {
     "data": {
      "text/html": [
       "<html><script type=\"math/tex; mode=display\">\\newcommand{\\Bold}[1]{\\mathbf{#1}}\\verb|f'|\\phantom{\\verb!x!}\\verb|==|\\phantom{\\verb!x!}\\verb|0:| \\left[x = \\frac{1}{30} i \\cdot 30^{\\frac{3}{4}} 29^{\\frac{1}{4}}, x = -\\frac{1}{30} \\cdot 30^{\\frac{3}{4}} 29^{\\frac{1}{4}}, x = -\\frac{1}{30} i \\cdot 30^{\\frac{3}{4}} 29^{\\frac{1}{4}}, x = \\frac{1}{30} \\cdot 30^{\\frac{3}{4}} 29^{\\frac{1}{4}}, x = 0\\right]</script></html>"
      ],
      "text/plain": [
       "\"f' == 0: \" [x == 1/30*I*30^(3/4)*29^(1/4), x == -1/30*30^(3/4)*29^(1/4), x == -1/30*I*30^(3/4)*29^(1/4), x == 1/30*30^(3/4)*29^(1/4), x == 0]"
      ]
     },
     "metadata": {},
     "output_type": "display_data"
    }
   ],
   "source": [
    "var('extr')\n",
    "extr = solve(der == 0, x)\n",
    "show(\"f' == 0: \", extr)"
   ]
  },
  {
   "cell_type": "markdown",
   "metadata": {},
   "source": [
    "Ни один из найденных корней не входит в область определения функции. Следовательно, экстремумов нет."
   ]
  },
  {
   "cell_type": "markdown",
   "metadata": {},
   "source": [
    "### Особые точки и большие по модулю значения $x$"
   ]
  },
  {
   "cell_type": "code",
   "execution_count": 92,
   "metadata": {},
   "outputs": [
    {
     "data": {
      "text/html": [
       "<html><script type=\"math/tex; mode=display\">\\newcommand{\\Bold}[1]{\\mathbf{#1}}\\verb|y(10000)|\\phantom{\\verb!x!}\\verb|=| -1.50000000000000 \\times 10^{9}</script></html>"
      ],
      "text/plain": [
       "'y(10000) = ' -1.50000000000000e9"
      ]
     },
     "metadata": {},
     "output_type": "display_data"
    },
    {
     "data": {
      "text/html": [
       "<html><script type=\"math/tex; mode=display\">\\newcommand{\\Bold}[1]{\\mathbf{#1}}\\verb|y(-10000)|\\phantom{\\verb!x!}\\verb|=| -1.50000000000000 \\times 10^{9}</script></html>"
      ],
      "text/plain": [
       "'y(-10000) = ' -1.50000000000000e9"
      ]
     },
     "metadata": {},
     "output_type": "display_data"
    }
   ],
   "source": [
    "big1 = numerical_approx(y(10000))\n",
    "big2 = numerical_approx(y(-10000))\n",
    "show(\"y(10000) = \", big1)\n",
    "show(\"y(-10000) = \", big2)"
   ]
  },
  {
   "cell_type": "markdown",
   "metadata": {},
   "source": [
    "Видно, что на бесконечности функция ведет себя как парабола с ветвями вниз, т.е. y = $O(x^2)$"
   ]
  },
  {
   "cell_type": "markdown",
   "metadata": {},
   "source": [
    "### Непрерывность и точки разрыва\n",
    "Исследуем точки $\\pm 1$"
   ]
  },
  {
   "cell_type": "code",
   "execution_count": 93,
   "metadata": {
    "scrolled": true
   },
   "outputs": [
    {
     "data": {
      "text/html": [
       "<html><script type=\"math/tex; mode=display\">\\newcommand{\\Bold}[1]{\\mathbf{#1}}\\verb|Предел|\\phantom{\\verb!x!}\\verb|справа|\\phantom{\\verb!x!}\\verb|для|\\phantom{\\verb!x!}\\verb|точки|\\phantom{\\verb!x!}\\verb|x1|\\phantom{\\verb!x!}\\verb|=|\\phantom{\\verb!x!}\\verb|-1:| +\\infty</script></html>"
      ],
      "text/plain": [
       "'Предел справа для точки x1 = -1:' +Infinity"
      ]
     },
     "metadata": {},
     "output_type": "display_data"
    },
    {
     "data": {
      "text/html": [
       "<html><script type=\"math/tex; mode=display\">\\newcommand{\\Bold}[1]{\\mathbf{#1}}\\verb|Предел|\\phantom{\\verb!x!}\\verb|слева|\\phantom{\\verb!x!}\\verb|для|\\phantom{\\verb!x!}\\verb|точки|\\phantom{\\verb!x!}\\verb|x1|\\phantom{\\verb!x!}\\verb|=|\\phantom{\\verb!x!}\\verb|-1:| +\\infty</script></html>"
      ],
      "text/plain": [
       "'Предел слева для точки x1 = -1: ' +Infinity"
      ]
     },
     "metadata": {},
     "output_type": "display_data"
    },
    {
     "data": {
      "text/html": [
       "<html><script type=\"math/tex; mode=display\">\\newcommand{\\Bold}[1]{\\mathbf{#1}}\\verb|Предел|\\phantom{\\verb!x!}\\verb|справа|\\phantom{\\verb!x!}\\verb|для|\\phantom{\\verb!x!}\\verb|точки|\\phantom{\\verb!x!}\\verb|x2|\\phantom{\\verb!x!}\\verb|=|\\phantom{\\verb!x!}\\verb|1:| +\\infty</script></html>"
      ],
      "text/plain": [
       "'Предел справа для точки x2 = 1:' +Infinity"
      ]
     },
     "metadata": {},
     "output_type": "display_data"
    },
    {
     "data": {
      "text/html": [
       "<html><script type=\"math/tex; mode=display\">\\newcommand{\\Bold}[1]{\\mathbf{#1}}\\verb|Предел|\\phantom{\\verb!x!}\\verb|слева|\\phantom{\\verb!x!}\\verb|для|\\phantom{\\verb!x!}\\verb|точки|\\phantom{\\verb!x!}\\verb|x2|\\phantom{\\verb!x!}\\verb|=|\\phantom{\\verb!x!}\\verb|1:| +\\infty</script></html>"
      ],
      "text/plain": [
       "'Предел слева для точки x2 = 1: ' +Infinity"
      ]
     },
     "metadata": {},
     "output_type": "display_data"
    },
    {
     "data": {
      "text/html": [
       "<html><script type=\"math/tex; mode=display\">\\newcommand{\\Bold}[1]{\\mathbf{#1}}\\verb|x1|\\phantom{\\verb!x!}\\verb|=|\\phantom{\\verb!x!}\\verb|-1|\\phantom{\\verb!x!}\\verb|-|\\phantom{\\verb!x!}\\verb|точка|\\phantom{\\verb!x!}\\verb|разрыва|\\phantom{\\verb!x!}\\verb|2|\\phantom{\\verb!x!}\\verb|рода|</script></html>"
      ],
      "text/plain": [
       "'x1 = -1 - точка разрыва 2 рода'"
      ]
     },
     "metadata": {},
     "output_type": "display_data"
    },
    {
     "data": {
      "text/html": [
       "<html><script type=\"math/tex; mode=display\">\\newcommand{\\Bold}[1]{\\mathbf{#1}}\\verb|x2|\\phantom{\\verb!x!}\\verb|=|\\phantom{\\verb!x!}\\verb|1|\\phantom{\\verb!x!}\\verb|-|\\phantom{\\verb!x!}\\verb|точка|\\phantom{\\verb!x!}\\verb|разрыва|\\phantom{\\verb!x!}\\verb|2|\\phantom{\\verb!x!}\\verb|рода|</script></html>"
      ],
      "text/plain": [
       "'x2 = 1 - точка разрыва 2 рода'"
      ]
     },
     "metadata": {},
     "output_type": "display_data"
    }
   ],
   "source": [
    "k1 = limit(y(x), 'right', x =- 1)\n",
    "show(\"Предел справа для точки x1 = -1:\", k1)\n",
    "k2 = limit(y(x), 'left', x =- 1)\n",
    "show(\"Предел слева для точки x1 = -1: \",k2)\n",
    "k3 = limit(y(x), 'right', x = 1)\n",
    "show(\"Предел справа для точки x2 = 1:\", k3)\n",
    "k4 = limit(y(x), 'left', x = 1)\n",
    "show(\"Предел слева для точки x2 = 1: \",k4)\n",
    "if (k1 == abs(infinity) or k2 == abs(infinity)):\n",
    "    show(\"x1 = -1 - точка разрыва 2 рода\")\n",
    "else:\n",
    "    show(\"x1 = -1 - точка разрыва 1 рода\")\n",
    "if (k3 == abs(infinity) or k4 == abs(infinity)):\n",
    "    show(\"x2 = 1 - точка разрыва 2 рода\")\n",
    "else:\n",
    "    show(\"x2 = 1 - точка разрыва 1 рода\")"
   ]
  },
  {
   "cell_type": "markdown",
   "metadata": {},
   "source": [
    "Функция непрерывна на своей области определения.\n",
    "### Асимптоты\n",
    "Исходя из прошлого пункта, функция имеет вертикальные асимптоты в $x = \\pm 1$ "
   ]
  },
  {
   "cell_type": "code",
   "execution_count": 94,
   "metadata": {
    "scrolled": false
   },
   "outputs": [
    {
     "data": {
      "text/html": [
       "<html><script type=\"math/tex; mode=display\">\\newcommand{\\Bold}[1]{\\mathbf{#1}}\\verb|k|\\phantom{\\verb!x!}\\verb|=| -\\infty</script></html>"
      ],
      "text/plain": [
       "'k =' -Infinity"
      ]
     },
     "metadata": {},
     "output_type": "display_data"
    },
    {
     "data": {
      "text/html": [
       "<html><script type=\"math/tex; mode=display\">\\newcommand{\\Bold}[1]{\\mathbf{#1}}\\verb|k|\\phantom{\\verb!x!}\\verb|=| +\\infty</script></html>"
      ],
      "text/plain": [
       "'k =' +Infinity"
      ]
     },
     "metadata": {},
     "output_type": "display_data"
    }
   ],
   "source": [
    "k1 = limit((y(x)/x), x=infinity)\n",
    "show(\"k =\", k1)\n",
    "k2 = limit((y(x)/x), x=-infinity)\n",
    "show(\"k =\", k2)"
   ]
  },
  {
   "cell_type": "markdown",
   "metadata": {},
   "source": [
    "Оба предела равны бесконечностям. Следовательно, наклонных асимптот нет.\n",
    "### График\n"
   ]
  },
  {
   "cell_type": "code",
   "execution_count": 95,
   "metadata": {},
   "outputs": [
    {
     "data": {
      "image/png": "[encoded data removed]",
      "text/plain": [
       "Graphics object consisting of 4 graphics primitives"
      ]
     },
     "metadata": {},
     "output_type": "display_data"
    }
   ],
   "source": [
    "p = plot(y, xmin = -50, xmax = 50, ymin = -1000, ymax = 0)\n",
    "l =  line([(-1,-2000), (-1,100)], color = 'red') + line([(1,-2000), (1,100)], color = 'red')\n",
    "show(p+l)"
   ]
  }
 ],
 "metadata": {
  "kernelspec": {
   "display_name": "SageMath 9.0",
   "language": "sage",
   "name": "sagemath"
  },
  "language_info": {
   "codemirror_mode": {
    "name": "ipython",
    "version": 3
   },
   "file_extension": ".py",
   "mimetype": "text/x-python",
   "name": "python",
   "nbconvert_exporter": "python",
   "pygments_lexer": "ipython3",
   "version": "3.8.5"
  }
 },
 "nbformat": 4,
 "nbformat_minor": 4
}
