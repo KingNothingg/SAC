{
 "cells": [
  {
   "cell_type": "markdown",
   "metadata": {},
   "source": [
    "#### Тарпанов Даниил\n",
    "#### М8О-204(6)Б-19\n",
    "### Модель Хищшник - Жертва"
   ]
  },
  {
   "cell_type": "code",
   "execution_count": 0,
   "metadata": {},
   "outputs": [],
   "source": [
    "(*Хищник-жертва*)\n",
    "predatorPrey[x_, a_, b_, c_, d_]:= Module[\n",
    "    {\n",
    "        sol,\n",
    "        eq1,\n",
    "        eq2,\n",
    "        t\n",
    "    },\n",
    "   \n",
    "    eq1[t_] := x'[t] == x[t] * (a - b * y[t]);\n",
    "    eq2[t_] := y'[t] == y[t] * (-c + d * x[t]);\n",
    "    sol = NDSolve[\n",
    "        {\n",
    "            eq1[t],\n",
    "            eq2[t],\n",
    "            x[0] == 2,\n",
    "            y[0] == 1\n",
    "        },\n",
    "        {x, y},\n",
    "        {t, 0, 7},\n",
    "        MaxSteps -> 3000\n",
    "    ];\n",
    "    \n",
    "    dots = Table[\n",
    "        {x[t], y[t]} /. sol[[1]],\n",
    "        {t, 0, 7, 0.01}\n",
    "    ];\n",
    "   \n",
    "    ListPlot[dots, Joined->True, PlotRange->All, ImageSize->500]\n",
    "]"
   ]
  },
  {
   "cell_type": "code",
   "execution_count": 0,
   "metadata": {},
   "outputs": [],
   "source": [
    "(*Манипулятор*)\n",
    "Manipulate[\n",
    "    predatorPrey[x, a, b, c, d],\n",
    "    {a, 1, 10, 1},\n",
    "    {b, 1, 10, 1},\n",
    "    {c, 1, 10, 1},\n",
    "    {d, 1, 10, 1}\n",
    "]"
   ]
  },
  {
   "cell_type": "code",
   "execution_count": 0,
   "metadata": {},
   "outputs": [],
   "source": []
  }
 ],
 "metadata": {
  "kernelspec": {
   "display_name": "SageMath 9.2",
   "language": "sagemath",
   "metadata": {
    "cocalc": {
     "description": "Open-source mathematical software system",
     "priority": 10,
     "url": "https://www.sagemath.org/"
    }
   },
   "name": "sage-9.2",
   "resource_dir": "/ext/jupyter/kernels/sage-9.2"
  }
 },
 "nbformat": 4,
 "nbformat_minor": 4
}
